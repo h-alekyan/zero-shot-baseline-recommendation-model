{
  "nbformat": 4,
  "nbformat_minor": 0,
  "metadata": {
    "colab": {
      "name": "Recommendation Model.ipynb",
      "provenance": [],
      "collapsed_sections": []
    },
    "kernelspec": {
      "name": "python3",
      "display_name": "Python 3"
    }
  },
  "cells": [
    {
      "cell_type": "code",
      "metadata": {
        "id": "ebRlIYPvBvuD"
      },
      "source": [
        "# Installing the transformers library\r\n",
        "\r\n",
        "!pip install transformers==3.1.0\r\n",
        "import os, json, gc, re, random"
      ],
      "execution_count": null,
      "outputs": []
    },
    {
      "cell_type": "code",
      "metadata": {
        "id": "aUJkEvmJB43j"
      },
      "source": [
        "#Importing the necessary libraries\r\n",
        "\r\n",
        "import numpy as np\r\n",
        "import pandas as pd\r\n",
        "from transformers import pipeline"
      ],
      "execution_count": null,
      "outputs": []
    },
    {
      "cell_type": "code",
      "metadata": {
        "id": "sSkEYUylCDxC"
      },
      "source": [
        "classifier = pipeline(\"zero-shot-classification\",device = 0)"
      ],
      "execution_count": null,
      "outputs": []
    },
    {
      "cell_type": "code",
      "metadata": {
        "id": "4kpHAjgoCSUQ"
      },
      "source": [
        "dataset = pd.read_csv(\"/arxiv_ready_df.csv\")"
      ],
      "execution_count": null,
      "outputs": []
    },
    {
      "cell_type": "code",
      "metadata": {
        "id": "4FbneWWrCIjR"
      },
      "source": [
        "#Creating a category map for the data\r\n",
        "\r\n",
        "category_map = {'astro-ph': 'Astrophysics',\r\n",
        "                'astro-ph.CO': 'Cosmology and Nongalactic Astrophysics',\r\n",
        "                'astro-ph.EP': 'Earth and Planetary Astrophysics',\r\n",
        "                'astro-ph.GA': 'Astrophysics of Galaxies',\r\n",
        "                'astro-ph.HE': 'High Energy Astrophysical Phenomena',\r\n",
        "                'astro-ph.IM': 'Instrumentation and Methods for Astrophysics',\r\n",
        "                'astro-ph.SR': 'Solar and Stellar Astrophysics',\r\n",
        "                'cond-mat.dis-nn': 'Disordered Systems and Neural Networks',\r\n",
        "                'cond-mat.mes-hall': 'Mesoscale and Nanoscale Physics',\r\n",
        "                'cond-mat.mtrl-sci': 'Materials Science',\r\n",
        "                'cond-mat.other': 'Other Condensed Matter',\r\n",
        "                'cond-mat.quant-gas': 'Quantum Gases',\r\n",
        "                'cond-mat.soft': 'Soft Condensed Matter',\r\n",
        "                'cond-mat.stat-mech': 'Statistical Mechanics',\r\n",
        "                'cond-mat.str-el': 'Strongly Correlated Electrons',\r\n",
        "                'cond-mat.supr-con': 'Superconductivity',\r\n",
        "                'cs.AI': 'Artificial Intelligence',\r\n",
        "                'cs.AR': 'Hardware Architecture',\r\n",
        "                'cs.CC': 'Computational Complexity',\r\n",
        "                'cs.CE': 'Computational Engineering, Finance, and Science',\r\n",
        "                'cs.CG': 'Computational Geometry',\r\n",
        "                'cs.CL': 'Computation and Language',\r\n",
        "                'cs.CR': 'Cryptography and Security',\r\n",
        "                'cs.CV': 'Computer Vision and Pattern Recognition',\r\n",
        "                'cs.CY': 'Computers and Society',\r\n",
        "                'cs.DB': 'Databases',\r\n",
        "                'cs.DC': 'Distributed, Parallel, and Cluster Computing',\r\n",
        "                'cs.DL': 'Digital Libraries',\r\n",
        "                'cs.DM': 'Discrete Mathematics',\r\n",
        "                'cs.DS': 'Data Structures and Algorithms',\r\n",
        "                'cs.ET': 'Emerging Technologies',\r\n",
        "                'cs.FL': 'Formal Languages and Automata Theory',\r\n",
        "                'cs.GL': 'General Literature',\r\n",
        "                'cs.GR': 'Graphics',\r\n",
        "                'cs.GT': 'Computer Science and Game Theory',\r\n",
        "                'cs.HC': 'Human-Computer Interaction',\r\n",
        "                'cs.IR': 'Information Retrieval',\r\n",
        "                'cs.IT': 'Information Theory',\r\n",
        "                'cs.LG': 'Machine Learning',\r\n",
        "                'cs.LO': 'Logic in Computer Science',\r\n",
        "                'cs.MA': 'Multiagent Systems',\r\n",
        "                'cs.MM': 'Multimedia',\r\n",
        "                'cs.MS': 'Mathematical Software',\r\n",
        "                'cs.NA': 'Numerical Analysis',\r\n",
        "                'cs.NE': 'Neural and Evolutionary Computing',\r\n",
        "                'cs.NI': 'Networking and Internet Architecture',\r\n",
        "                'cs.OH': 'Other Computer Science',\r\n",
        "                'cs.OS': 'Operating Systems',\r\n",
        "                'cs.PF': 'Performance',\r\n",
        "                'cs.PL': 'Programming Languages',\r\n",
        "                'cs.RO': 'Robotics',\r\n",
        "                'cs.SC': 'Symbolic Computation',\r\n",
        "                'cs.SD': 'Sound',\r\n",
        "                'cs.SE': 'Software Engineering',\r\n",
        "                'cs.SI': 'Social and Information Networks',\r\n",
        "                'cs.SY': 'Systems and Control',\r\n",
        "                'econ.EM': 'Econometrics',\r\n",
        "                'eess.AS': 'Audio and Speech Processing',\r\n",
        "                'eess.IV': 'Image and Video Processing',\r\n",
        "                'eess.SP': 'Signal Processing',\r\n",
        "                'gr-qc': 'General Relativity and Quantum Cosmology',\r\n",
        "                'hep-ex': 'High Energy Physics - Experiment',\r\n",
        "                'hep-lat': 'High Energy Physics - Lattice',\r\n",
        "                'hep-ph': 'High Energy Physics - Phenomenology',\r\n",
        "                'hep-th': 'High Energy Physics - Theory',\r\n",
        "                'math.AC': 'Commutative Algebra',\r\n",
        "                'math.AG': 'Algebraic Geometry',\r\n",
        "                'math.AP': 'Analysis of PDEs',\r\n",
        "                'math.AT': 'Algebraic Topology',\r\n",
        "                'math.CA': 'Classical Analysis and ODEs',\r\n",
        "                'math.CO': 'Combinatorics',\r\n",
        "                'math.CT': 'Category Theory',\r\n",
        "                'math.CV': 'Complex Variables',\r\n",
        "                'math.DG': 'Differential Geometry',\r\n",
        "                'math.DS': 'Dynamical Systems',\r\n",
        "                'math.FA': 'Functional Analysis',\r\n",
        "                'math.GM': 'General Mathematics',\r\n",
        "                'math.GN': 'General Topology',\r\n",
        "                'math.GR': 'Group Theory',\r\n",
        "                'math.GT': 'Geometric Topology',\r\n",
        "                'math.HO': 'History and Overview',\r\n",
        "                'math.IT': 'Information Theory',\r\n",
        "                'math.KT': 'K-Theory and Homology',\r\n",
        "                'math.LO': 'Logic',\r\n",
        "                'math.MG': 'Metric Geometry',\r\n",
        "                'math.MP': 'Mathematical Physics',\r\n",
        "                'math.NA': 'Numerical Analysis',\r\n",
        "                'math.NT': 'Number Theory',\r\n",
        "                'math.OA': 'Operator Algebras',\r\n",
        "                'math.OC': 'Optimization and Control',\r\n",
        "                'math.PR': 'Probability',\r\n",
        "                'math.QA': 'Quantum Algebra',\r\n",
        "                'math.RA': 'Rings and Algebras',\r\n",
        "                'math.RT': 'Representation Theory',\r\n",
        "                'math.SG': 'Symplectic Geometry',\r\n",
        "                'math.SP': 'Spectral Theory',\r\n",
        "                'math.ST': 'Statistics Theory',\r\n",
        "                'math-ph': 'Mathematical Physics',\r\n",
        "                'nlin.AO': 'Adaptation and Self-Organizing Systems',\r\n",
        "                'nlin.CD': 'Chaotic Dynamics',\r\n",
        "                'nlin.CG': 'Cellular Automata and Lattice Gases',\r\n",
        "                'nlin.PS': 'Pattern Formation and Solitons',\r\n",
        "                'nlin.SI': 'Exactly Solvable and Integrable Systems',\r\n",
        "                'nucl-ex': 'Nuclear Experiment',\r\n",
        "                'nucl-th': 'Nuclear Theory',\r\n",
        "                'physics.acc-ph': 'Accelerator Physics',\r\n",
        "                'physics.ao-ph': 'Atmospheric and Oceanic Physics',\r\n",
        "                'physics.app-ph': 'Applied Physics',\r\n",
        "                'physics.atm-clus': 'Atomic and Molecular Clusters',\r\n",
        "                'physics.atom-ph': 'Atomic Physics',\r\n",
        "                'physics.bio-ph': 'Biological Physics',\r\n",
        "                'physics.chem-ph': 'Chemical Physics',\r\n",
        "                'physics.class-ph': 'Classical Physics',\r\n",
        "                'physics.comp-ph': 'Computational Physics',\r\n",
        "                'physics.data-an': 'Data Analysis, Statistics and Probability',\r\n",
        "                'physics.ed-ph': 'Physics Education',\r\n",
        "                'physics.flu-dyn': 'Fluid Dynamics',\r\n",
        "                'physics.gen-ph': 'General Physics',\r\n",
        "                'physics.geo-ph': 'Geophysics',\r\n",
        "                'physics.hist-ph': 'History and Philosophy of Physics',\r\n",
        "                'physics.ins-det': 'Instrumentation and Detectors',\r\n",
        "                'physics.med-ph': 'Medical Physics',\r\n",
        "                'physics.optics': 'Optics',\r\n",
        "                'physics.plasm-ph': 'Plasma Physics',\r\n",
        "                'physics.pop-ph': 'Popular Physics',\r\n",
        "                'physics.soc-ph': 'Physics and Society',\r\n",
        "                'physics.space-ph': 'Space Physics',\r\n",
        "                'q-bio.BM': 'Biomolecules',\r\n",
        "                'q-bio.CB': 'Cell Behavior',\r\n",
        "                'q-bio.GN': 'Genomics',\r\n",
        "                'q-bio.MN': 'Molecular Networks',\r\n",
        "                'q-bio.NC': 'Neurons and Cognition',\r\n",
        "                'q-bio.OT': 'Other Quantitative Biology',\r\n",
        "                'q-bio.PE': 'Populations and Evolution',\r\n",
        "                'q-bio.QM': 'Quantitative Methods',\r\n",
        "                'q-bio.SC': 'Subcellular Processes',\r\n",
        "                'q-bio.TO': 'Tissues and Organs',\r\n",
        "                'q-fin.CP': 'Computational Finance',\r\n",
        "                'q-fin.EC': 'Economics',\r\n",
        "                'q-fin.GN': 'General Finance',\r\n",
        "                'q-fin.MF': 'Mathematical Finance',\r\n",
        "                'q-fin.PM': 'Portfolio Management',\r\n",
        "                'q-fin.PR': 'Pricing of Securities',\r\n",
        "                'q-fin.RM': 'Risk Management',\r\n",
        "                'q-fin.ST': 'Statistical Finance',\r\n",
        "                'q-fin.TR': 'Trading and Market Microstructure',\r\n",
        "                'quant-ph': 'Quantum Physics',\r\n",
        "                'stat.AP': 'Applications',\r\n",
        "                'stat.CO': 'Computation',\r\n",
        "                'stat.ME': 'Methodology',\r\n",
        "                'stat.ML': 'Machine Learning',\r\n",
        "                'stat.OT': 'Other Statistics',\r\n",
        "                'stat.TH': 'Statistics Theory'}\r\n",
        "len(category_map)"
      ],
      "execution_count": null,
      "outputs": []
    },
    {
      "cell_type": "code",
      "metadata": {
        "id": "fG5u3An0CPtz"
      },
      "source": [
        "proc_predictedCategories = []\r\n",
        "proc_trueCategories = []\r\n",
        "for i in range(100):\r\n",
        "  text = dataset.iloc[i]['processed']\r\n",
        "  cat = dataset.iloc[i]['categories']\r\n",
        "  cat = cat.split()\r\n",
        "  res = classifier(text, candidate_labels, multi_class=True)#setting multi-class as True\r\n",
        "  labels = res['labels'] \r\n",
        "  scores = res['scores'] #extracting the scores associated with the labels\r\n",
        "  res_dict = {label : score for label,score in zip(labels, scores)}\r\n",
        "  sorted_dict = dict(sorted(res_dict.items(), key=lambda x:x[1],reverse = True)) #sorting the dictionary of labels in descending order based on their score\r\n",
        "  categories  = []\r\n",
        "  for i, (k,v) in enumerate(sorted_dict.items()):\r\n",
        "      if(i > 2): #storing only the best 3 predictions\r\n",
        "          break\r\n",
        "      else:\r\n",
        "          categories.append(k)\r\n",
        "  proc_predictedCategories.append(categories)\r\n",
        "  trueCats = [category_map[x] for x in cat]\r\n",
        "  proc_trueCategories.append(trueCats)"
      ],
      "execution_count": null,
      "outputs": []
    },
    {
      "cell_type": "code",
      "metadata": {
        "id": "8xaa9ZH1C3iC"
      },
      "source": [
        "# How many predictions were correct\r\n",
        "\r\n",
        "cor = 0\r\n",
        "for pred,true in zip(proc_predictedCategories, proc_trueCategories):\r\n",
        "  for element in pred:\r\n",
        "    if element in true:\r\n",
        "      cor += 1"
      ],
      "execution_count": null,
      "outputs": []
    },
    {
      "cell_type": "code",
      "metadata": {
        "id": "03EE3UtVC-wv"
      },
      "source": [
        "#Print out the first 5 predictions and compare to the real categories\r\n",
        "\r\n",
        "for y_true, y_pred in zip(trueCategories[:5], predictedCategories[:5]):\r\n",
        "    print(f'True Categories {y_true}')\r\n",
        "    print(f'Predicted Categories {y_pred}')\r\n",
        "    print('-'*50)"
      ],
      "execution_count": null,
      "outputs": []
    }
  ]
}