{
  "nbformat": 4,
  "nbformat_minor": 0,
  "metadata": {
    "colab": {
      "name": "Model Attempt I.ipynb",
      "provenance": [],
      "collapsed_sections": []
    },
    "kernelspec": {
      "display_name": "Python 3",
      "name": "python3"
    }
  },
  "cells": [
    {
      "cell_type": "code",
      "metadata": {
        "colab": {
          "base_uri": "https://localhost:8080/"
        },
        "id": "74-lTCsjAzMx",
        "outputId": "7d20efff-9b5d-472f-d940-84827309202b"
      },
      "source": [
        "!pip install transformers==3.1.0\r\n",
        "import os, json, gc, re, random"
      ],
      "execution_count": null,
      "outputs": [
        {
          "output_type": "stream",
          "text": [
            "Requirement already satisfied: transformers==3.1.0 in /usr/local/lib/python3.6/dist-packages (3.1.0)\n",
            "Requirement already satisfied: tokenizers==0.8.1.rc2 in /usr/local/lib/python3.6/dist-packages (from transformers==3.1.0) (0.8.1rc2)\n",
            "Requirement already satisfied: sacremoses in /usr/local/lib/python3.6/dist-packages (from transformers==3.1.0) (0.0.43)\n",
            "Requirement already satisfied: filelock in /usr/local/lib/python3.6/dist-packages (from transformers==3.1.0) (3.0.12)\n",
            "Requirement already satisfied: tqdm>=4.27 in /usr/local/lib/python3.6/dist-packages (from transformers==3.1.0) (4.41.1)\n",
            "Requirement already satisfied: numpy in /usr/local/lib/python3.6/dist-packages (from transformers==3.1.0) (1.19.5)\n",
            "Requirement already satisfied: sentencepiece!=0.1.92 in /usr/local/lib/python3.6/dist-packages (from transformers==3.1.0) (0.1.95)\n",
            "Requirement already satisfied: regex!=2019.12.17 in /usr/local/lib/python3.6/dist-packages (from transformers==3.1.0) (2019.12.20)\n",
            "Requirement already satisfied: dataclasses; python_version < \"3.7\" in /usr/local/lib/python3.6/dist-packages (from transformers==3.1.0) (0.8)\n",
            "Requirement already satisfied: requests in /usr/local/lib/python3.6/dist-packages (from transformers==3.1.0) (2.23.0)\n",
            "Requirement already satisfied: packaging in /usr/local/lib/python3.6/dist-packages (from transformers==3.1.0) (20.8)\n",
            "Requirement already satisfied: joblib in /usr/local/lib/python3.6/dist-packages (from sacremoses->transformers==3.1.0) (1.0.0)\n",
            "Requirement already satisfied: six in /usr/local/lib/python3.6/dist-packages (from sacremoses->transformers==3.1.0) (1.15.0)\n",
            "Requirement already satisfied: click in /usr/local/lib/python3.6/dist-packages (from sacremoses->transformers==3.1.0) (7.1.2)\n",
            "Requirement already satisfied: urllib3!=1.25.0,!=1.25.1,<1.26,>=1.21.1 in /usr/local/lib/python3.6/dist-packages (from requests->transformers==3.1.0) (1.24.3)\n",
            "Requirement already satisfied: idna<3,>=2.5 in /usr/local/lib/python3.6/dist-packages (from requests->transformers==3.1.0) (2.10)\n",
            "Requirement already satisfied: chardet<4,>=3.0.2 in /usr/local/lib/python3.6/dist-packages (from requests->transformers==3.1.0) (3.0.4)\n",
            "Requirement already satisfied: certifi>=2017.4.17 in /usr/local/lib/python3.6/dist-packages (from requests->transformers==3.1.0) (2020.12.5)\n",
            "Requirement already satisfied: pyparsing>=2.0.2 in /usr/local/lib/python3.6/dist-packages (from packaging->transformers==3.1.0) (2.4.7)\n"
          ],
          "name": "stdout"
        }
      ]
    },
    {
      "cell_type": "markdown",
      "metadata": {
        "id": "JNO5FNB6ESgD"
      },
      "source": [
        ""
      ]
    },
    {
      "cell_type": "code",
      "metadata": {
        "id": "nR9o7-wcP-KT"
      },
      "source": [
        "import numpy as np\r\n",
        "import pandas as pd\r\n",
        "from tqdm.notebook import tqdm\r\n",
        "#from sklearn.preprocessing import MultiLabelBinarizer\r\n",
        "#from sklearn.model_selection import train_test_split\r\n",
        "#from sklearn.metrics import confusion_matrix\r\n",
        "\r\n",
        "import matplotlib.pyplot as plt\r\n",
        "%matplotlib inline\r\n",
        "import plotly.express as px\r\n",
        "import seaborn as sns\r\n",
        "\r\n",
        "import warnings\r\n",
        "warnings.filterwarnings(\"ignore\")\r\n",
        "\r\n",
        "import logging\r\n",
        "logging.basicConfig(level=logging.INFO)\r\n",
        "transformers_logger = logging.getLogger(\"transformers\")\r\n",
        "transformers_logger.setLevel(logging.WARNING)"
      ],
      "execution_count": null,
      "outputs": []
    },
    {
      "cell_type": "code",
      "metadata": {
        "id": "ijA4J4vDB9Kv"
      },
      "source": [
        "from transformers import pipeline"
      ],
      "execution_count": null,
      "outputs": []
    },
    {
      "cell_type": "code",
      "metadata": {
        "id": "zBE5gXoCCT6G"
      },
      "source": [
        "data_file = '/content/drive/MyDrive/Colab Notebooks/arxiv-metadata-oai-snapshot.json'\r\n",
        "\r\n",
        "\"\"\" Using `yield` to load the JSON file in a loop to prevent Python memory issues if JSON is loaded directly\"\"\"\r\n",
        "\r\n",
        "def get_metadata():\r\n",
        "    with open(data_file, 'r') as f:\r\n",
        "        for line in f:\r\n",
        "            yield line"
      ],
      "execution_count": null,
      "outputs": []
    },
    {
      "cell_type": "code",
      "metadata": {
        "colab": {
          "base_uri": "https://localhost:8080/"
        },
        "id": "kglmt8idCV9D",
        "outputId": "7ca4ba1f-0a58-4924-ee4c-6dc8a1c9510a"
      },
      "source": [
        "classifier = pipeline(\"zero-shot-classification\",device = 0)"
      ],
      "execution_count": null,
      "outputs": [
        {
          "output_type": "stream",
          "text": [
            "Some weights of the model checkpoint at facebook/bart-large-mnli were not used when initializing BartForSequenceClassification: ['model.encoder.version', 'model.decoder.version']\n",
            "- This IS expected if you are initializing BartForSequenceClassification from the checkpoint of a model trained on another task or with another architecture (e.g. initializing a BertForSequenceClassification model from a BertForPretraining model).\n",
            "- This IS NOT expected if you are initializing BartForSequenceClassification from the checkpoint of a model that you expect to be exactly identical (initializing a BertForSequenceClassification model from a BertForSequenceClassification model).\n"
          ],
          "name": "stderr"
        }
      ]
    },
    {
      "cell_type": "code",
      "metadata": {
        "colab": {
          "base_uri": "https://localhost:8080/"
        },
        "id": "He4h3xdxCYf1",
        "outputId": "2c20027b-1fc6-42a7-e454-2a3700a4953a"
      },
      "source": [
        "metadata = get_metadata()\r\n",
        "for paper in metadata:\r\n",
        "    for k, v in json.loads(paper).items():\r\n",
        "        print(f'{k}: {v} \\n')\r\n",
        "    break"
      ],
      "execution_count": null,
      "outputs": [
        {
          "output_type": "stream",
          "text": [
            "id: 0704.0001 \n",
            "\n",
            "submitter: Pavel Nadolsky \n",
            "\n",
            "authors: C. Bal\\'azs, E. L. Berger, P. M. Nadolsky, C.-P. Yuan \n",
            "\n",
            "title: Calculation of prompt diphoton production cross sections at Tevatron and\n",
            "  LHC energies \n",
            "\n",
            "comments: 37 pages, 15 figures; published version \n",
            "\n",
            "journal-ref: Phys.Rev.D76:013009,2007 \n",
            "\n",
            "doi: 10.1103/PhysRevD.76.013009 \n",
            "\n",
            "report-no: ANL-HEP-PR-07-12 \n",
            "\n",
            "categories: hep-ph \n",
            "\n",
            "license: None \n",
            "\n",
            "abstract:   A fully differential calculation in perturbative quantum chromodynamics is\n",
            "presented for the production of massive photon pairs at hadron colliders. All\n",
            "next-to-leading order perturbative contributions from quark-antiquark,\n",
            "gluon-(anti)quark, and gluon-gluon subprocesses are included, as well as\n",
            "all-orders resummation of initial-state gluon radiation valid at\n",
            "next-to-next-to-leading logarithmic accuracy. The region of phase space is\n",
            "specified in which the calculation is most reliable. Good agreement is\n",
            "demonstrated with data from the Fermilab Tevatron, and predictions are made for\n",
            "more detailed tests with CDF and DO data. Predictions are shown for\n",
            "distributions of diphoton pairs produced at the energy of the Large Hadron\n",
            "Collider (LHC). Distributions of the diphoton pairs from the decay of a Higgs\n",
            "boson are contrasted with those produced from QCD processes at the LHC, showing\n",
            "that enhanced sensitivity to the signal can be obtained with judicious\n",
            "selection of events.\n",
            " \n",
            "\n",
            "versions: [{'version': 'v1', 'created': 'Mon, 2 Apr 2007 19:18:42 GMT'}, {'version': 'v2', 'created': 'Tue, 24 Jul 2007 20:10:27 GMT'}] \n",
            "\n",
            "update_date: 2008-11-26 \n",
            "\n",
            "authors_parsed: [['Balázs', 'C.', ''], ['Berger', 'E. L.', ''], ['Nadolsky', 'P. M.', ''], ['Yuan', 'C. -P.', '']] \n",
            "\n"
          ],
          "name": "stdout"
        }
      ]
    },
    {
      "cell_type": "code",
      "metadata": {
        "colab": {
          "base_uri": "https://localhost:8080/"
        },
        "id": "BUclaxClJNUZ",
        "outputId": "079ddddb-3770-4681-fc5e-862c71699eab"
      },
      "source": [
        "category_map = {'astro-ph': 'Astrophysics',\r\n",
        "                'astro-ph.CO': 'Cosmology and Nongalactic Astrophysics',\r\n",
        "                'astro-ph.EP': 'Earth and Planetary Astrophysics',\r\n",
        "                'astro-ph.GA': 'Astrophysics of Galaxies',\r\n",
        "                'astro-ph.HE': 'High Energy Astrophysical Phenomena',\r\n",
        "                'astro-ph.IM': 'Instrumentation and Methods for Astrophysics',\r\n",
        "                'astro-ph.SR': 'Solar and Stellar Astrophysics',\r\n",
        "                'cond-mat.dis-nn': 'Disordered Systems and Neural Networks',\r\n",
        "                'cond-mat.mes-hall': 'Mesoscale and Nanoscale Physics',\r\n",
        "                'cond-mat.mtrl-sci': 'Materials Science',\r\n",
        "                'cond-mat.other': 'Other Condensed Matter',\r\n",
        "                'cond-mat.quant-gas': 'Quantum Gases',\r\n",
        "                'cond-mat.soft': 'Soft Condensed Matter',\r\n",
        "                'cond-mat.stat-mech': 'Statistical Mechanics',\r\n",
        "                'cond-mat.str-el': 'Strongly Correlated Electrons',\r\n",
        "                'cond-mat.supr-con': 'Superconductivity',\r\n",
        "                'cs.AI': 'Artificial Intelligence',\r\n",
        "                'cs.AR': 'Hardware Architecture',\r\n",
        "                'cs.CC': 'Computational Complexity',\r\n",
        "                'cs.CE': 'Computational Engineering, Finance, and Science',\r\n",
        "                'cs.CG': 'Computational Geometry',\r\n",
        "                'cs.CL': 'Computation and Language',\r\n",
        "                'cs.CR': 'Cryptography and Security',\r\n",
        "                'cs.CV': 'Computer Vision and Pattern Recognition',\r\n",
        "                'cs.CY': 'Computers and Society',\r\n",
        "                'cs.DB': 'Databases',\r\n",
        "                'cs.DC': 'Distributed, Parallel, and Cluster Computing',\r\n",
        "                'cs.DL': 'Digital Libraries',\r\n",
        "                'cs.DM': 'Discrete Mathematics',\r\n",
        "                'cs.DS': 'Data Structures and Algorithms',\r\n",
        "                'cs.ET': 'Emerging Technologies',\r\n",
        "                'cs.FL': 'Formal Languages and Automata Theory',\r\n",
        "                'cs.GL': 'General Literature',\r\n",
        "                'cs.GR': 'Graphics',\r\n",
        "                'cs.GT': 'Computer Science and Game Theory',\r\n",
        "                'cs.HC': 'Human-Computer Interaction',\r\n",
        "                'cs.IR': 'Information Retrieval',\r\n",
        "                'cs.IT': 'Information Theory',\r\n",
        "                'cs.LG': 'Machine Learning',\r\n",
        "                'cs.LO': 'Logic in Computer Science',\r\n",
        "                'cs.MA': 'Multiagent Systems',\r\n",
        "                'cs.MM': 'Multimedia',\r\n",
        "                'cs.MS': 'Mathematical Software',\r\n",
        "                'cs.NA': 'Numerical Analysis',\r\n",
        "                'cs.NE': 'Neural and Evolutionary Computing',\r\n",
        "                'cs.NI': 'Networking and Internet Architecture',\r\n",
        "                'cs.OH': 'Other Computer Science',\r\n",
        "                'cs.OS': 'Operating Systems',\r\n",
        "                'cs.PF': 'Performance',\r\n",
        "                'cs.PL': 'Programming Languages',\r\n",
        "                'cs.RO': 'Robotics',\r\n",
        "                'cs.SC': 'Symbolic Computation',\r\n",
        "                'cs.SD': 'Sound',\r\n",
        "                'cs.SE': 'Software Engineering',\r\n",
        "                'cs.SI': 'Social and Information Networks',\r\n",
        "                'cs.SY': 'Systems and Control',\r\n",
        "                'econ.EM': 'Econometrics',\r\n",
        "                'eess.AS': 'Audio and Speech Processing',\r\n",
        "                'eess.IV': 'Image and Video Processing',\r\n",
        "                'eess.SP': 'Signal Processing',\r\n",
        "                'gr-qc': 'General Relativity and Quantum Cosmology',\r\n",
        "                'hep-ex': 'High Energy Physics - Experiment',\r\n",
        "                'hep-lat': 'High Energy Physics - Lattice',\r\n",
        "                'hep-ph': 'High Energy Physics - Phenomenology',\r\n",
        "                'hep-th': 'High Energy Physics - Theory',\r\n",
        "                'math.AC': 'Commutative Algebra',\r\n",
        "                'math.AG': 'Algebraic Geometry',\r\n",
        "                'math.AP': 'Analysis of PDEs',\r\n",
        "                'math.AT': 'Algebraic Topology',\r\n",
        "                'math.CA': 'Classical Analysis and ODEs',\r\n",
        "                'math.CO': 'Combinatorics',\r\n",
        "                'math.CT': 'Category Theory',\r\n",
        "                'math.CV': 'Complex Variables',\r\n",
        "                'math.DG': 'Differential Geometry',\r\n",
        "                'math.DS': 'Dynamical Systems',\r\n",
        "                'math.FA': 'Functional Analysis',\r\n",
        "                'math.GM': 'General Mathematics',\r\n",
        "                'math.GN': 'General Topology',\r\n",
        "                'math.GR': 'Group Theory',\r\n",
        "                'math.GT': 'Geometric Topology',\r\n",
        "                'math.HO': 'History and Overview',\r\n",
        "                'math.IT': 'Information Theory',\r\n",
        "                'math.KT': 'K-Theory and Homology',\r\n",
        "                'math.LO': 'Logic',\r\n",
        "                'math.MG': 'Metric Geometry',\r\n",
        "                'math.MP': 'Mathematical Physics',\r\n",
        "                'math.NA': 'Numerical Analysis',\r\n",
        "                'math.NT': 'Number Theory',\r\n",
        "                'math.OA': 'Operator Algebras',\r\n",
        "                'math.OC': 'Optimization and Control',\r\n",
        "                'math.PR': 'Probability',\r\n",
        "                'math.QA': 'Quantum Algebra',\r\n",
        "                'math.RA': 'Rings and Algebras',\r\n",
        "                'math.RT': 'Representation Theory',\r\n",
        "                'math.SG': 'Symplectic Geometry',\r\n",
        "                'math.SP': 'Spectral Theory',\r\n",
        "                'math.ST': 'Statistics Theory',\r\n",
        "                'math-ph': 'Mathematical Physics',\r\n",
        "                'nlin.AO': 'Adaptation and Self-Organizing Systems',\r\n",
        "                'nlin.CD': 'Chaotic Dynamics',\r\n",
        "                'nlin.CG': 'Cellular Automata and Lattice Gases',\r\n",
        "                'nlin.PS': 'Pattern Formation and Solitons',\r\n",
        "                'nlin.SI': 'Exactly Solvable and Integrable Systems',\r\n",
        "                'nucl-ex': 'Nuclear Experiment',\r\n",
        "                'nucl-th': 'Nuclear Theory',\r\n",
        "                'physics.acc-ph': 'Accelerator Physics',\r\n",
        "                'physics.ao-ph': 'Atmospheric and Oceanic Physics',\r\n",
        "                'physics.app-ph': 'Applied Physics',\r\n",
        "                'physics.atm-clus': 'Atomic and Molecular Clusters',\r\n",
        "                'physics.atom-ph': 'Atomic Physics',\r\n",
        "                'physics.bio-ph': 'Biological Physics',\r\n",
        "                'physics.chem-ph': 'Chemical Physics',\r\n",
        "                'physics.class-ph': 'Classical Physics',\r\n",
        "                'physics.comp-ph': 'Computational Physics',\r\n",
        "                'physics.data-an': 'Data Analysis, Statistics and Probability',\r\n",
        "                'physics.ed-ph': 'Physics Education',\r\n",
        "                'physics.flu-dyn': 'Fluid Dynamics',\r\n",
        "                'physics.gen-ph': 'General Physics',\r\n",
        "                'physics.geo-ph': 'Geophysics',\r\n",
        "                'physics.hist-ph': 'History and Philosophy of Physics',\r\n",
        "                'physics.ins-det': 'Instrumentation and Detectors',\r\n",
        "                'physics.med-ph': 'Medical Physics',\r\n",
        "                'physics.optics': 'Optics',\r\n",
        "                'physics.plasm-ph': 'Plasma Physics',\r\n",
        "                'physics.pop-ph': 'Popular Physics',\r\n",
        "                'physics.soc-ph': 'Physics and Society',\r\n",
        "                'physics.space-ph': 'Space Physics',\r\n",
        "                'q-bio.BM': 'Biomolecules',\r\n",
        "                'q-bio.CB': 'Cell Behavior',\r\n",
        "                'q-bio.GN': 'Genomics',\r\n",
        "                'q-bio.MN': 'Molecular Networks',\r\n",
        "                'q-bio.NC': 'Neurons and Cognition',\r\n",
        "                'q-bio.OT': 'Other Quantitative Biology',\r\n",
        "                'q-bio.PE': 'Populations and Evolution',\r\n",
        "                'q-bio.QM': 'Quantitative Methods',\r\n",
        "                'q-bio.SC': 'Subcellular Processes',\r\n",
        "                'q-bio.TO': 'Tissues and Organs',\r\n",
        "                'q-fin.CP': 'Computational Finance',\r\n",
        "                'q-fin.EC': 'Economics',\r\n",
        "                'q-fin.GN': 'General Finance',\r\n",
        "                'q-fin.MF': 'Mathematical Finance',\r\n",
        "                'q-fin.PM': 'Portfolio Management',\r\n",
        "                'q-fin.PR': 'Pricing of Securities',\r\n",
        "                'q-fin.RM': 'Risk Management',\r\n",
        "                'q-fin.ST': 'Statistical Finance',\r\n",
        "                'q-fin.TR': 'Trading and Market Microstructure',\r\n",
        "                'quant-ph': 'Quantum Physics',\r\n",
        "                'stat.AP': 'Applications',\r\n",
        "                'stat.CO': 'Computation',\r\n",
        "                'stat.ME': 'Methodology',\r\n",
        "                'stat.ML': 'Machine Learning',\r\n",
        "                'stat.OT': 'Other Statistics',\r\n",
        "                'stat.TH': 'Statistics Theory'}\r\n",
        "len(category_map)"
      ],
      "execution_count": null,
      "outputs": [
        {
          "output_type": "execute_result",
          "data": {
            "text/plain": [
              "153"
            ]
          },
          "metadata": {
            "tags": []
          },
          "execution_count": 6
        }
      ]
    },
    {
      "cell_type": "code",
      "metadata": {
        "id": "ICBAIVGTy-ug"
      },
      "source": [
        "text_tags_dict = {\"abstract\":[], \"categories\":[]}\r\n",
        "for paper in metadata:\r\n",
        "    parsed = json.loads(paper)\r\n",
        "    text = parsed['abstract']\r\n",
        "    text_tags_dict[\"abstract\"].append(text)\r\n",
        "    text_tags_dict[\"categories\"].append(parsed['categories'])\r\n"
      ],
      "execution_count": null,
      "outputs": []
    },
    {
      "cell_type": "code",
      "metadata": {
        "id": "mc51vAHYzHfS"
      },
      "source": [
        "df = pd.DataFrame.from_records(text_tags_dict)\r\n"
      ],
      "execution_count": null,
      "outputs": []
    },
    {
      "cell_type": "code",
      "metadata": {
        "colab": {
          "base_uri": "https://localhost:8080/",
          "height": 314
        },
        "id": "JIHfU-hrzQvW",
        "outputId": "a778d19e-41da-4d97-a6c3-2463fac43588"
      },
      "source": [
        "df.iloc[1]['abstract']"
      ],
      "execution_count": null,
      "outputs": [
        {
          "output_type": "error",
          "ename": "IndexError",
          "evalue": "ignored",
          "traceback": [
            "\u001b[0;31m---------------------------------------------------------------------------\u001b[0m",
            "\u001b[0;31mIndexError\u001b[0m                                Traceback (most recent call last)",
            "\u001b[0;32m<ipython-input-51-53379da92888>\u001b[0m in \u001b[0;36m<module>\u001b[0;34m()\u001b[0m\n\u001b[0;32m----> 1\u001b[0;31m \u001b[0mdf\u001b[0m\u001b[0;34m.\u001b[0m\u001b[0miloc\u001b[0m\u001b[0;34m[\u001b[0m\u001b[0;36m1\u001b[0m\u001b[0;34m]\u001b[0m\u001b[0;34m[\u001b[0m\u001b[0;34m'abstract'\u001b[0m\u001b[0;34m]\u001b[0m\u001b[0;34m\u001b[0m\u001b[0;34m\u001b[0m\u001b[0m\n\u001b[0m",
            "\u001b[0;32m/usr/local/lib/python3.6/dist-packages/pandas/core/indexing.py\u001b[0m in \u001b[0;36m__getitem__\u001b[0;34m(self, key)\u001b[0m\n\u001b[1;32m    877\u001b[0m \u001b[0;34m\u001b[0m\u001b[0m\n\u001b[1;32m    878\u001b[0m             \u001b[0mmaybe_callable\u001b[0m \u001b[0;34m=\u001b[0m \u001b[0mcom\u001b[0m\u001b[0;34m.\u001b[0m\u001b[0mapply_if_callable\u001b[0m\u001b[0;34m(\u001b[0m\u001b[0mkey\u001b[0m\u001b[0;34m,\u001b[0m \u001b[0mself\u001b[0m\u001b[0;34m.\u001b[0m\u001b[0mobj\u001b[0m\u001b[0;34m)\u001b[0m\u001b[0;34m\u001b[0m\u001b[0;34m\u001b[0m\u001b[0m\n\u001b[0;32m--> 879\u001b[0;31m             \u001b[0;32mreturn\u001b[0m \u001b[0mself\u001b[0m\u001b[0;34m.\u001b[0m\u001b[0m_getitem_axis\u001b[0m\u001b[0;34m(\u001b[0m\u001b[0mmaybe_callable\u001b[0m\u001b[0;34m,\u001b[0m \u001b[0maxis\u001b[0m\u001b[0;34m=\u001b[0m\u001b[0maxis\u001b[0m\u001b[0;34m)\u001b[0m\u001b[0;34m\u001b[0m\u001b[0;34m\u001b[0m\u001b[0m\n\u001b[0m\u001b[1;32m    880\u001b[0m \u001b[0;34m\u001b[0m\u001b[0m\n\u001b[1;32m    881\u001b[0m     \u001b[0;32mdef\u001b[0m \u001b[0m_is_scalar_access\u001b[0m\u001b[0;34m(\u001b[0m\u001b[0mself\u001b[0m\u001b[0;34m,\u001b[0m \u001b[0mkey\u001b[0m\u001b[0;34m:\u001b[0m \u001b[0mTuple\u001b[0m\u001b[0;34m)\u001b[0m\u001b[0;34m:\u001b[0m\u001b[0;34m\u001b[0m\u001b[0;34m\u001b[0m\u001b[0m\n",
            "\u001b[0;32m/usr/local/lib/python3.6/dist-packages/pandas/core/indexing.py\u001b[0m in \u001b[0;36m_getitem_axis\u001b[0;34m(self, key, axis)\u001b[0m\n\u001b[1;32m   1494\u001b[0m \u001b[0;34m\u001b[0m\u001b[0m\n\u001b[1;32m   1495\u001b[0m             \u001b[0;31m# validate the location\u001b[0m\u001b[0;34m\u001b[0m\u001b[0;34m\u001b[0m\u001b[0;34m\u001b[0m\u001b[0m\n\u001b[0;32m-> 1496\u001b[0;31m             \u001b[0mself\u001b[0m\u001b[0;34m.\u001b[0m\u001b[0m_validate_integer\u001b[0m\u001b[0;34m(\u001b[0m\u001b[0mkey\u001b[0m\u001b[0;34m,\u001b[0m \u001b[0maxis\u001b[0m\u001b[0;34m)\u001b[0m\u001b[0;34m\u001b[0m\u001b[0;34m\u001b[0m\u001b[0m\n\u001b[0m\u001b[1;32m   1497\u001b[0m \u001b[0;34m\u001b[0m\u001b[0m\n\u001b[1;32m   1498\u001b[0m             \u001b[0;32mreturn\u001b[0m \u001b[0mself\u001b[0m\u001b[0;34m.\u001b[0m\u001b[0mobj\u001b[0m\u001b[0;34m.\u001b[0m\u001b[0m_ixs\u001b[0m\u001b[0;34m(\u001b[0m\u001b[0mkey\u001b[0m\u001b[0;34m,\u001b[0m \u001b[0maxis\u001b[0m\u001b[0;34m=\u001b[0m\u001b[0maxis\u001b[0m\u001b[0;34m)\u001b[0m\u001b[0;34m\u001b[0m\u001b[0;34m\u001b[0m\u001b[0m\n",
            "\u001b[0;32m/usr/local/lib/python3.6/dist-packages/pandas/core/indexing.py\u001b[0m in \u001b[0;36m_validate_integer\u001b[0;34m(self, key, axis)\u001b[0m\n\u001b[1;32m   1435\u001b[0m         \u001b[0mlen_axis\u001b[0m \u001b[0;34m=\u001b[0m \u001b[0mlen\u001b[0m\u001b[0;34m(\u001b[0m\u001b[0mself\u001b[0m\u001b[0;34m.\u001b[0m\u001b[0mobj\u001b[0m\u001b[0;34m.\u001b[0m\u001b[0m_get_axis\u001b[0m\u001b[0;34m(\u001b[0m\u001b[0maxis\u001b[0m\u001b[0;34m)\u001b[0m\u001b[0;34m)\u001b[0m\u001b[0;34m\u001b[0m\u001b[0;34m\u001b[0m\u001b[0m\n\u001b[1;32m   1436\u001b[0m         \u001b[0;32mif\u001b[0m \u001b[0mkey\u001b[0m \u001b[0;34m>=\u001b[0m \u001b[0mlen_axis\u001b[0m \u001b[0;32mor\u001b[0m \u001b[0mkey\u001b[0m \u001b[0;34m<\u001b[0m \u001b[0;34m-\u001b[0m\u001b[0mlen_axis\u001b[0m\u001b[0;34m:\u001b[0m\u001b[0;34m\u001b[0m\u001b[0;34m\u001b[0m\u001b[0m\n\u001b[0;32m-> 1437\u001b[0;31m             \u001b[0;32mraise\u001b[0m \u001b[0mIndexError\u001b[0m\u001b[0;34m(\u001b[0m\u001b[0;34m\"single positional indexer is out-of-bounds\"\u001b[0m\u001b[0;34m)\u001b[0m\u001b[0;34m\u001b[0m\u001b[0;34m\u001b[0m\u001b[0m\n\u001b[0m\u001b[1;32m   1438\u001b[0m \u001b[0;34m\u001b[0m\u001b[0m\n\u001b[1;32m   1439\u001b[0m     \u001b[0;31m# -------------------------------------------------------------------\u001b[0m\u001b[0;34m\u001b[0m\u001b[0;34m\u001b[0m\u001b[0;34m\u001b[0m\u001b[0m\n",
            "\u001b[0;31mIndexError\u001b[0m: single positional indexer is out-of-bounds"
          ]
        }
      ]
    },
    {
      "cell_type": "code",
      "metadata": {
        "colab": {
          "base_uri": "https://localhost:8080/",
          "height": 314
        },
        "id": "rcnWXkdP0E6f",
        "outputId": "d9575cb1-08f3-4700-c3ce-d3f36ba8e811"
      },
      "source": [
        "df.iloc[1]['categories']"
      ],
      "execution_count": null,
      "outputs": [
        {
          "output_type": "error",
          "ename": "IndexError",
          "evalue": "ignored",
          "traceback": [
            "\u001b[0;31m---------------------------------------------------------------------------\u001b[0m",
            "\u001b[0;31mIndexError\u001b[0m                                Traceback (most recent call last)",
            "\u001b[0;32m<ipython-input-35-cb83de2f878f>\u001b[0m in \u001b[0;36m<module>\u001b[0;34m()\u001b[0m\n\u001b[0;32m----> 1\u001b[0;31m \u001b[0mdf\u001b[0m\u001b[0;34m.\u001b[0m\u001b[0miloc\u001b[0m\u001b[0;34m[\u001b[0m\u001b[0;36m1\u001b[0m\u001b[0;34m]\u001b[0m\u001b[0;34m[\u001b[0m\u001b[0;34m'categories'\u001b[0m\u001b[0;34m]\u001b[0m\u001b[0;34m\u001b[0m\u001b[0;34m\u001b[0m\u001b[0m\n\u001b[0m",
            "\u001b[0;32m/usr/local/lib/python3.6/dist-packages/pandas/core/indexing.py\u001b[0m in \u001b[0;36m__getitem__\u001b[0;34m(self, key)\u001b[0m\n\u001b[1;32m    877\u001b[0m \u001b[0;34m\u001b[0m\u001b[0m\n\u001b[1;32m    878\u001b[0m             \u001b[0mmaybe_callable\u001b[0m \u001b[0;34m=\u001b[0m \u001b[0mcom\u001b[0m\u001b[0;34m.\u001b[0m\u001b[0mapply_if_callable\u001b[0m\u001b[0;34m(\u001b[0m\u001b[0mkey\u001b[0m\u001b[0;34m,\u001b[0m \u001b[0mself\u001b[0m\u001b[0;34m.\u001b[0m\u001b[0mobj\u001b[0m\u001b[0;34m)\u001b[0m\u001b[0;34m\u001b[0m\u001b[0;34m\u001b[0m\u001b[0m\n\u001b[0;32m--> 879\u001b[0;31m             \u001b[0;32mreturn\u001b[0m \u001b[0mself\u001b[0m\u001b[0;34m.\u001b[0m\u001b[0m_getitem_axis\u001b[0m\u001b[0;34m(\u001b[0m\u001b[0mmaybe_callable\u001b[0m\u001b[0;34m,\u001b[0m \u001b[0maxis\u001b[0m\u001b[0;34m=\u001b[0m\u001b[0maxis\u001b[0m\u001b[0;34m)\u001b[0m\u001b[0;34m\u001b[0m\u001b[0;34m\u001b[0m\u001b[0m\n\u001b[0m\u001b[1;32m    880\u001b[0m \u001b[0;34m\u001b[0m\u001b[0m\n\u001b[1;32m    881\u001b[0m     \u001b[0;32mdef\u001b[0m \u001b[0m_is_scalar_access\u001b[0m\u001b[0;34m(\u001b[0m\u001b[0mself\u001b[0m\u001b[0;34m,\u001b[0m \u001b[0mkey\u001b[0m\u001b[0;34m:\u001b[0m \u001b[0mTuple\u001b[0m\u001b[0;34m)\u001b[0m\u001b[0;34m:\u001b[0m\u001b[0;34m\u001b[0m\u001b[0;34m\u001b[0m\u001b[0m\n",
            "\u001b[0;32m/usr/local/lib/python3.6/dist-packages/pandas/core/indexing.py\u001b[0m in \u001b[0;36m_getitem_axis\u001b[0;34m(self, key, axis)\u001b[0m\n\u001b[1;32m   1494\u001b[0m \u001b[0;34m\u001b[0m\u001b[0m\n\u001b[1;32m   1495\u001b[0m             \u001b[0;31m# validate the location\u001b[0m\u001b[0;34m\u001b[0m\u001b[0;34m\u001b[0m\u001b[0;34m\u001b[0m\u001b[0m\n\u001b[0;32m-> 1496\u001b[0;31m             \u001b[0mself\u001b[0m\u001b[0;34m.\u001b[0m\u001b[0m_validate_integer\u001b[0m\u001b[0;34m(\u001b[0m\u001b[0mkey\u001b[0m\u001b[0;34m,\u001b[0m \u001b[0maxis\u001b[0m\u001b[0;34m)\u001b[0m\u001b[0;34m\u001b[0m\u001b[0;34m\u001b[0m\u001b[0m\n\u001b[0m\u001b[1;32m   1497\u001b[0m \u001b[0;34m\u001b[0m\u001b[0m\n\u001b[1;32m   1498\u001b[0m             \u001b[0;32mreturn\u001b[0m \u001b[0mself\u001b[0m\u001b[0;34m.\u001b[0m\u001b[0mobj\u001b[0m\u001b[0;34m.\u001b[0m\u001b[0m_ixs\u001b[0m\u001b[0;34m(\u001b[0m\u001b[0mkey\u001b[0m\u001b[0;34m,\u001b[0m \u001b[0maxis\u001b[0m\u001b[0;34m=\u001b[0m\u001b[0maxis\u001b[0m\u001b[0;34m)\u001b[0m\u001b[0;34m\u001b[0m\u001b[0;34m\u001b[0m\u001b[0m\n",
            "\u001b[0;32m/usr/local/lib/python3.6/dist-packages/pandas/core/indexing.py\u001b[0m in \u001b[0;36m_validate_integer\u001b[0;34m(self, key, axis)\u001b[0m\n\u001b[1;32m   1435\u001b[0m         \u001b[0mlen_axis\u001b[0m \u001b[0;34m=\u001b[0m \u001b[0mlen\u001b[0m\u001b[0;34m(\u001b[0m\u001b[0mself\u001b[0m\u001b[0;34m.\u001b[0m\u001b[0mobj\u001b[0m\u001b[0;34m.\u001b[0m\u001b[0m_get_axis\u001b[0m\u001b[0;34m(\u001b[0m\u001b[0maxis\u001b[0m\u001b[0;34m)\u001b[0m\u001b[0;34m)\u001b[0m\u001b[0;34m\u001b[0m\u001b[0;34m\u001b[0m\u001b[0m\n\u001b[1;32m   1436\u001b[0m         \u001b[0;32mif\u001b[0m \u001b[0mkey\u001b[0m \u001b[0;34m>=\u001b[0m \u001b[0mlen_axis\u001b[0m \u001b[0;32mor\u001b[0m \u001b[0mkey\u001b[0m \u001b[0;34m<\u001b[0m \u001b[0;34m-\u001b[0m\u001b[0mlen_axis\u001b[0m\u001b[0;34m:\u001b[0m\u001b[0;34m\u001b[0m\u001b[0;34m\u001b[0m\u001b[0m\n\u001b[0;32m-> 1437\u001b[0;31m             \u001b[0;32mraise\u001b[0m \u001b[0mIndexError\u001b[0m\u001b[0;34m(\u001b[0m\u001b[0;34m\"single positional indexer is out-of-bounds\"\u001b[0m\u001b[0;34m)\u001b[0m\u001b[0;34m\u001b[0m\u001b[0;34m\u001b[0m\u001b[0m\n\u001b[0m\u001b[1;32m   1438\u001b[0m \u001b[0;34m\u001b[0m\u001b[0m\n\u001b[1;32m   1439\u001b[0m     \u001b[0;31m# -------------------------------------------------------------------\u001b[0m\u001b[0;34m\u001b[0m\u001b[0;34m\u001b[0m\u001b[0;34m\u001b[0m\u001b[0m\n",
            "\u001b[0;31mIndexError\u001b[0m: single positional indexer is out-of-bounds"
          ]
        }
      ]
    },
    {
      "cell_type": "code",
      "metadata": {
        "id": "ix9xCdgIQNGM"
      },
      "source": [
        "candidate_labels = list(category_map.values()) #candidate labels are basically the classes that the classifier will predict\r\n",
        "predictedCategories = []\r\n",
        "trueCategories = []\r\n",
        "for i in range(100):\r\n",
        "    text = df.iloc[i]['abstract']\r\n",
        "    cat = df.iloc[i]['categories']\r\n",
        "    cat = cat.split()\r\n",
        "    res = classifier(text, candidate_labels, multi_class=True)#setting multi-class as True\r\n",
        "    labels = res['labels'] \r\n",
        "    scores = res['scores'] #extracting the scores associated with the labels\r\n",
        "    res_dict = {label : score for label,score in zip(labels, scores)}\r\n",
        "    sorted_dict = dict(sorted(res_dict.items(), key=lambda x:x[1],reverse = True)) #sorting the dictionary of labels in descending order based on their score\r\n",
        "    categories  = []\r\n",
        "    for i, (k,v) in enumerate(sorted_dict.items()):\r\n",
        "        if(i > 2): #storing only the best 3 predictions\r\n",
        "            break\r\n",
        "        else:\r\n",
        "            categories.append(k)\r\n",
        "    predictedCategories.append(categories)\r\n",
        "    trueCats = [category_map[x] for x in cat]\r\n",
        "    trueCategories.append(trueCats)"
      ],
      "execution_count": null,
      "outputs": []
    },
    {
      "cell_type": "code",
      "metadata": {
        "colab": {
          "base_uri": "https://localhost:8080/"
        },
        "id": "e4BX4dHYQPwN",
        "outputId": "692c34b2-134e-48d3-d931-d6e325442b4c"
      },
      "source": [
        "for y_true, y_pred in zip(trueCategories[:3], predictedCategories[:3]):\r\n",
        "    print(f'True Categories {y_true}')\r\n",
        "    print(f'Predicted Categories {y_pred}')\r\n",
        "    print('#'*50)"
      ],
      "execution_count": null,
      "outputs": [
        {
          "output_type": "stream",
          "text": [
            "True Categories ['Combinatorics', 'Computational Geometry']\n",
            "Predicted Categories ['Computation', 'Performance', 'Systems and Control']\n",
            "##################################################\n",
            "True Categories ['General Physics']\n",
            "Predicted Categories ['Physics and Society', 'Complex Variables', 'Graphics']\n",
            "##################################################\n",
            "True Categories ['Combinatorics']\n",
            "Predicted Categories ['Systems and Control', 'Sound', 'Methodology']\n",
            "##################################################\n"
          ],
          "name": "stdout"
        }
      ]
    },
    {
      "cell_type": "code",
      "metadata": {
        "id": "KyzrNFqF_X6x",
        "colab": {
          "base_uri": "https://localhost:8080/",
          "height": 385
        },
        "outputId": "b1288206-c961-4c51-8e3c-3deecd96c4de"
      },
      "source": [
        "predictedCategories = []\r\n",
        "trueCategories = []\r\n",
        "text = df.iloc[1]['abstract']\r\n",
        "cat = df.iloc[1]['categories']\r\n",
        "cat = cat.split()\r\n",
        "res = classifier(text, candidate_labels, multi_class=True)#setting multi-class as True\r\n",
        "labels = res['labels'] \r\n",
        "scores = res['scores'] #extracting the scores associated with the labels\r\n",
        "res_dict = {label : score for label,score in zip(labels, scores)}\r\n",
        "sorted_dict = dict(sorted(res_dict.items(), key=lambda x:x[1],reverse = True)) #sorting the dictionary of labels in descending order based on their score\r\n",
        "categories  = []\r\n",
        "for i, (k,v) in enumerate(sorted_dict.items()):\r\n",
        "    if(i > 2): #storing only the best 3 predictions\r\n",
        "        break\r\n",
        "    else:\r\n",
        "        categories.append(k)\r\n",
        "predictedCategories.append(categories)\r\n",
        "trueCats = [category_map[x] for x in cat]\r\n",
        "trueCategories.append(trueCats)"
      ],
      "execution_count": null,
      "outputs": [
        {
          "output_type": "error",
          "ename": "IndexError",
          "evalue": "ignored",
          "traceback": [
            "\u001b[0;31m---------------------------------------------------------------------------\u001b[0m",
            "\u001b[0;31mIndexError\u001b[0m                                Traceback (most recent call last)",
            "\u001b[0;32m<ipython-input-42-86c29d88845b>\u001b[0m in \u001b[0;36m<module>\u001b[0;34m()\u001b[0m\n\u001b[1;32m      1\u001b[0m \u001b[0mpredictedCategories\u001b[0m \u001b[0;34m=\u001b[0m \u001b[0;34m[\u001b[0m\u001b[0;34m]\u001b[0m\u001b[0;34m\u001b[0m\u001b[0;34m\u001b[0m\u001b[0m\n\u001b[1;32m      2\u001b[0m \u001b[0mtrueCategories\u001b[0m \u001b[0;34m=\u001b[0m \u001b[0;34m[\u001b[0m\u001b[0;34m]\u001b[0m\u001b[0;34m\u001b[0m\u001b[0;34m\u001b[0m\u001b[0m\n\u001b[0;32m----> 3\u001b[0;31m \u001b[0mtext\u001b[0m \u001b[0;34m=\u001b[0m \u001b[0mdf\u001b[0m\u001b[0;34m.\u001b[0m\u001b[0miloc\u001b[0m\u001b[0;34m[\u001b[0m\u001b[0;36m1\u001b[0m\u001b[0;34m]\u001b[0m\u001b[0;34m[\u001b[0m\u001b[0;34m'abstract'\u001b[0m\u001b[0;34m]\u001b[0m\u001b[0;34m\u001b[0m\u001b[0;34m\u001b[0m\u001b[0m\n\u001b[0m\u001b[1;32m      4\u001b[0m \u001b[0mcat\u001b[0m \u001b[0;34m=\u001b[0m \u001b[0mdf\u001b[0m\u001b[0;34m.\u001b[0m\u001b[0miloc\u001b[0m\u001b[0;34m[\u001b[0m\u001b[0;36m1\u001b[0m\u001b[0;34m]\u001b[0m\u001b[0;34m[\u001b[0m\u001b[0;34m'categories'\u001b[0m\u001b[0;34m]\u001b[0m\u001b[0;34m\u001b[0m\u001b[0;34m\u001b[0m\u001b[0m\n\u001b[1;32m      5\u001b[0m \u001b[0mcat\u001b[0m \u001b[0;34m=\u001b[0m \u001b[0mcat\u001b[0m\u001b[0;34m.\u001b[0m\u001b[0msplit\u001b[0m\u001b[0;34m(\u001b[0m\u001b[0;34m)\u001b[0m\u001b[0;34m\u001b[0m\u001b[0;34m\u001b[0m\u001b[0m\n",
            "\u001b[0;32m/usr/local/lib/python3.6/dist-packages/pandas/core/indexing.py\u001b[0m in \u001b[0;36m__getitem__\u001b[0;34m(self, key)\u001b[0m\n\u001b[1;32m    877\u001b[0m \u001b[0;34m\u001b[0m\u001b[0m\n\u001b[1;32m    878\u001b[0m             \u001b[0mmaybe_callable\u001b[0m \u001b[0;34m=\u001b[0m \u001b[0mcom\u001b[0m\u001b[0;34m.\u001b[0m\u001b[0mapply_if_callable\u001b[0m\u001b[0;34m(\u001b[0m\u001b[0mkey\u001b[0m\u001b[0;34m,\u001b[0m \u001b[0mself\u001b[0m\u001b[0;34m.\u001b[0m\u001b[0mobj\u001b[0m\u001b[0;34m)\u001b[0m\u001b[0;34m\u001b[0m\u001b[0;34m\u001b[0m\u001b[0m\n\u001b[0;32m--> 879\u001b[0;31m             \u001b[0;32mreturn\u001b[0m \u001b[0mself\u001b[0m\u001b[0;34m.\u001b[0m\u001b[0m_getitem_axis\u001b[0m\u001b[0;34m(\u001b[0m\u001b[0mmaybe_callable\u001b[0m\u001b[0;34m,\u001b[0m \u001b[0maxis\u001b[0m\u001b[0;34m=\u001b[0m\u001b[0maxis\u001b[0m\u001b[0;34m)\u001b[0m\u001b[0;34m\u001b[0m\u001b[0;34m\u001b[0m\u001b[0m\n\u001b[0m\u001b[1;32m    880\u001b[0m \u001b[0;34m\u001b[0m\u001b[0m\n\u001b[1;32m    881\u001b[0m     \u001b[0;32mdef\u001b[0m \u001b[0m_is_scalar_access\u001b[0m\u001b[0;34m(\u001b[0m\u001b[0mself\u001b[0m\u001b[0;34m,\u001b[0m \u001b[0mkey\u001b[0m\u001b[0;34m:\u001b[0m \u001b[0mTuple\u001b[0m\u001b[0;34m)\u001b[0m\u001b[0;34m:\u001b[0m\u001b[0;34m\u001b[0m\u001b[0;34m\u001b[0m\u001b[0m\n",
            "\u001b[0;32m/usr/local/lib/python3.6/dist-packages/pandas/core/indexing.py\u001b[0m in \u001b[0;36m_getitem_axis\u001b[0;34m(self, key, axis)\u001b[0m\n\u001b[1;32m   1494\u001b[0m \u001b[0;34m\u001b[0m\u001b[0m\n\u001b[1;32m   1495\u001b[0m             \u001b[0;31m# validate the location\u001b[0m\u001b[0;34m\u001b[0m\u001b[0;34m\u001b[0m\u001b[0;34m\u001b[0m\u001b[0m\n\u001b[0;32m-> 1496\u001b[0;31m             \u001b[0mself\u001b[0m\u001b[0;34m.\u001b[0m\u001b[0m_validate_integer\u001b[0m\u001b[0;34m(\u001b[0m\u001b[0mkey\u001b[0m\u001b[0;34m,\u001b[0m \u001b[0maxis\u001b[0m\u001b[0;34m)\u001b[0m\u001b[0;34m\u001b[0m\u001b[0;34m\u001b[0m\u001b[0m\n\u001b[0m\u001b[1;32m   1497\u001b[0m \u001b[0;34m\u001b[0m\u001b[0m\n\u001b[1;32m   1498\u001b[0m             \u001b[0;32mreturn\u001b[0m \u001b[0mself\u001b[0m\u001b[0;34m.\u001b[0m\u001b[0mobj\u001b[0m\u001b[0;34m.\u001b[0m\u001b[0m_ixs\u001b[0m\u001b[0;34m(\u001b[0m\u001b[0mkey\u001b[0m\u001b[0;34m,\u001b[0m \u001b[0maxis\u001b[0m\u001b[0;34m=\u001b[0m\u001b[0maxis\u001b[0m\u001b[0;34m)\u001b[0m\u001b[0;34m\u001b[0m\u001b[0;34m\u001b[0m\u001b[0m\n",
            "\u001b[0;32m/usr/local/lib/python3.6/dist-packages/pandas/core/indexing.py\u001b[0m in \u001b[0;36m_validate_integer\u001b[0;34m(self, key, axis)\u001b[0m\n\u001b[1;32m   1435\u001b[0m         \u001b[0mlen_axis\u001b[0m \u001b[0;34m=\u001b[0m \u001b[0mlen\u001b[0m\u001b[0;34m(\u001b[0m\u001b[0mself\u001b[0m\u001b[0;34m.\u001b[0m\u001b[0mobj\u001b[0m\u001b[0;34m.\u001b[0m\u001b[0m_get_axis\u001b[0m\u001b[0;34m(\u001b[0m\u001b[0maxis\u001b[0m\u001b[0;34m)\u001b[0m\u001b[0;34m)\u001b[0m\u001b[0;34m\u001b[0m\u001b[0;34m\u001b[0m\u001b[0m\n\u001b[1;32m   1436\u001b[0m         \u001b[0;32mif\u001b[0m \u001b[0mkey\u001b[0m \u001b[0;34m>=\u001b[0m \u001b[0mlen_axis\u001b[0m \u001b[0;32mor\u001b[0m \u001b[0mkey\u001b[0m \u001b[0;34m<\u001b[0m \u001b[0;34m-\u001b[0m\u001b[0mlen_axis\u001b[0m\u001b[0;34m:\u001b[0m\u001b[0;34m\u001b[0m\u001b[0;34m\u001b[0m\u001b[0m\n\u001b[0;32m-> 1437\u001b[0;31m             \u001b[0;32mraise\u001b[0m \u001b[0mIndexError\u001b[0m\u001b[0;34m(\u001b[0m\u001b[0;34m\"single positional indexer is out-of-bounds\"\u001b[0m\u001b[0;34m)\u001b[0m\u001b[0;34m\u001b[0m\u001b[0;34m\u001b[0m\u001b[0m\n\u001b[0m\u001b[1;32m   1438\u001b[0m \u001b[0;34m\u001b[0m\u001b[0m\n\u001b[1;32m   1439\u001b[0m     \u001b[0;31m# -------------------------------------------------------------------\u001b[0m\u001b[0;34m\u001b[0m\u001b[0;34m\u001b[0m\u001b[0;34m\u001b[0m\u001b[0m\n",
            "\u001b[0;31mIndexError\u001b[0m: single positional indexer is out-of-bounds"
          ]
        }
      ]
    },
    {
      "cell_type": "code",
      "metadata": {
        "id": "mWWL3iQJAU0X",
        "colab": {
          "base_uri": "https://localhost:8080/"
        },
        "outputId": "1ba4e57b-f1d3-4e08-ea78-75ac9214daac"
      },
      "source": [
        "\r\n",
        "for y_true, y_pred in zip(trueCategories, predictedCategories):\r\n",
        "    print(f'True Categories {y_true}')\r\n",
        "    print(f'Predicted Categories {y_pred}')\r\n",
        "    print('#'*50)"
      ],
      "execution_count": null,
      "outputs": [
        {
          "output_type": "stream",
          "text": [
            "True Categories ['General Physics']\n",
            "Predicted Categories ['Physics and Society', 'Complex Variables', 'Graphics']\n",
            "##################################################\n"
          ],
          "name": "stdout"
        }
      ]
    },
    {
      "cell_type": "code",
      "metadata": {
        "id": "23D9Vyr2AYtk",
        "colab": {
          "base_uri": "https://localhost:8080/",
          "height": 195
        },
        "outputId": "9e508fba-1dcd-4498-eb53-a96e38bd5fcc"
      },
      "source": [
        "df.head()"
      ],
      "execution_count": null,
      "outputs": [
        {
          "output_type": "execute_result",
          "data": {
            "text/html": [
              "<div>\n",
              "<style scoped>\n",
              "    .dataframe tbody tr th:only-of-type {\n",
              "        vertical-align: middle;\n",
              "    }\n",
              "\n",
              "    .dataframe tbody tr th {\n",
              "        vertical-align: top;\n",
              "    }\n",
              "\n",
              "    .dataframe thead th {\n",
              "        text-align: right;\n",
              "    }\n",
              "</style>\n",
              "<table border=\"1\" class=\"dataframe\">\n",
              "  <thead>\n",
              "    <tr style=\"text-align: right;\">\n",
              "      <th></th>\n",
              "      <th>abstract</th>\n",
              "      <th>categories</th>\n",
              "    </tr>\n",
              "  </thead>\n",
              "  <tbody>\n",
              "    <tr>\n",
              "      <th>0</th>\n",
              "      <td>We describe a new algorithm, the $(k,\\ell)$-...</td>\n",
              "      <td>math.CO cs.CG</td>\n",
              "    </tr>\n",
              "    <tr>\n",
              "      <th>1</th>\n",
              "      <td>The evolution of Earth-Moon system is descri...</td>\n",
              "      <td>physics.gen-ph</td>\n",
              "    </tr>\n",
              "    <tr>\n",
              "      <th>2</th>\n",
              "      <td>We show that a determinant of Stirling cycle...</td>\n",
              "      <td>math.CO</td>\n",
              "    </tr>\n",
              "    <tr>\n",
              "      <th>3</th>\n",
              "      <td>In this paper we show how to compute the $\\L...</td>\n",
              "      <td>math.CA math.FA</td>\n",
              "    </tr>\n",
              "    <tr>\n",
              "      <th>4</th>\n",
              "      <td>We study the two-particle wave function of p...</td>\n",
              "      <td>cond-mat.mes-hall</td>\n",
              "    </tr>\n",
              "  </tbody>\n",
              "</table>\n",
              "</div>"
            ],
            "text/plain": [
              "                                            abstract         categories\n",
              "0    We describe a new algorithm, the $(k,\\ell)$-...      math.CO cs.CG\n",
              "1    The evolution of Earth-Moon system is descri...     physics.gen-ph\n",
              "2    We show that a determinant of Stirling cycle...            math.CO\n",
              "3    In this paper we show how to compute the $\\L...    math.CA math.FA\n",
              "4    We study the two-particle wave function of p...  cond-mat.mes-hall"
            ]
          },
          "metadata": {
            "tags": []
          },
          "execution_count": 15
        }
      ]
    },
    {
      "cell_type": "code",
      "metadata": {
        "id": "uUTxzIwSjZJz"
      },
      "source": [
        "from transformers import BertTokenizer"
      ],
      "execution_count": null,
      "outputs": []
    },
    {
      "cell_type": "code",
      "metadata": {
        "colab": {
          "base_uri": "https://localhost:8080/"
        },
        "id": "x5-r5awNkKFK",
        "outputId": "89f6a449-b266-46d4-9c41-edc640787f44"
      },
      "source": [
        "import nltk\r\n",
        "nltk.download('wordnet')\r\n",
        "nltk.download('stopwords')\r\n",
        "from nltk.stem import WordNetLemmatizer \r\n",
        "from nltk.corpus import stopwords  \r\n",
        "\r\n",
        "stop_words = set(stopwords.words('english'))  \r\n",
        "  \r\n",
        "lemmatizer = WordNetLemmatizer() "
      ],
      "execution_count": null,
      "outputs": [
        {
          "output_type": "stream",
          "text": [
            "[nltk_data] Downloading package wordnet to /root/nltk_data...\n",
            "[nltk_data]   Package wordnet is already up-to-date!\n",
            "[nltk_data] Downloading package stopwords to /root/nltk_data...\n",
            "[nltk_data]   Package stopwords is already up-to-date!\n"
          ],
          "name": "stdout"
        }
      ]
    },
    {
      "cell_type": "code",
      "metadata": {
        "id": "CoOOep9zkz7W"
      },
      "source": [
        "def word_cleaner(txt):\r\n",
        "  sentence = \"\"\r\n",
        "  for word in txt.split():\r\n",
        "    if not word in stop_words:\r\n",
        "      sentence += \" \" + lemmatizer.lemmatize(word)\r\n",
        "  return sentence"
      ],
      "execution_count": null,
      "outputs": []
    },
    {
      "cell_type": "code",
      "metadata": {
        "id": "BkY74w6FLRx7"
      },
      "source": [
        "df[\"processed\"] = 'not yet processed'"
      ],
      "execution_count": null,
      "outputs": []
    },
    {
      "cell_type": "code",
      "metadata": {
        "id": "lBGmCkHuk5oX"
      },
      "source": [
        "for i in range(100000):\r\n",
        "  df['processed'][i] = word_cleaner(df['abstract'][i])"
      ],
      "execution_count": null,
      "outputs": []
    },
    {
      "cell_type": "code",
      "metadata": {
        "id": "DSEEIjv0m2XO"
      },
      "source": [
        ""
      ],
      "execution_count": null,
      "outputs": []
    },
    {
      "cell_type": "code",
      "metadata": {
        "id": "nsYLANBdmzyv"
      },
      "source": [
        "new_df = df.head(100000)"
      ],
      "execution_count": null,
      "outputs": []
    },
    {
      "cell_type": "code",
      "metadata": {
        "id": "pGcG-adtnNjS"
      },
      "source": [
        "new_df.to_csv(\"processed.csv\", index=False)"
      ],
      "execution_count": null,
      "outputs": []
    },
    {
      "cell_type": "code",
      "metadata": {
        "id": "DdsfhsuBsLJH"
      },
      "source": [
        "for i in range(10):\r\n",
        "  candidate_labels = list(category_map.values()) #candidate labels are basically the classes that the classifier will predict\r\n",
        "  predictedCategories = []\r\n",
        "  trueCategories = []\r\n",
        "  text = new_df.iloc[i]['processed']\r\n",
        "  cat = new_df.iloc[i]['categories']\r\n",
        "  cat = cat.split()\r\n",
        "  res = classifier(text, candidate_labels, multi_class=True)#setting multi-class as True\r\n",
        "  labels = res['labels'] \r\n",
        "  scores = res['scores'] #extracting the scores associated with the labels\r\n",
        "  res_dict = {label : score for label,score in zip(labels, scores)}\r\n",
        "  sorted_dict = dict(sorted(res_dict.items(), key=lambda x:x[1],reverse = True)) #sorting the dictionary of labels in descending order based on their score\r\n",
        "  categories  = []\r\n",
        "  for i, (k,v) in enumerate(sorted_dict.items()):\r\n",
        "      if(i > 2): #storing only the best 3 predictions\r\n",
        "          break\r\n",
        "      else:\r\n",
        "          categories.append(k)\r\n",
        "  predictedCategories.append(categories)\r\n",
        "  trueCats = [category_map[x] for x in cat]\r\n",
        "  trueCategories.append(trueCats)"
      ],
      "execution_count": null,
      "outputs": []
    },
    {
      "cell_type": "code",
      "metadata": {
        "colab": {
          "base_uri": "https://localhost:8080/"
        },
        "id": "-wmmcv65WP2c",
        "outputId": "9af4b3a1-41c9-4d6d-9265-4b8d3b3bdc59"
      },
      "source": [
        "for y_true, y_pred in zip(trueCategories, predictedCategories):\r\n",
        "    print(f'True Categories {y_true}')\r\n",
        "    print(f'Predicted Categories {y_pred}')\r\n",
        "    print('#'*50)"
      ],
      "execution_count": null,
      "outputs": [
        {
          "output_type": "stream",
          "text": [
            "True Categories ['Number Theory', 'Algebraic Geometry']\n",
            "Predicted Categories ['Computation', 'Sound', 'Number Theory']\n",
            "##################################################\n"
          ],
          "name": "stdout"
        }
      ]
    },
    {
      "cell_type": "code",
      "metadata": {
        "id": "kpSoHC3zWEMB"
      },
      "source": [
        "for i in range(10):\r\n",
        "  candidate_labels = list(category_map.values()) #candidate labels are basically the classes that the classifier will predict\r\n",
        "  predictedCategories = []\r\n",
        "  trueCategories = []\r\n",
        "  text = new_df.iloc[i]['abstract']\r\n",
        "  cat = new_df.iloc[i]['categories']\r\n",
        "  cat = cat.split()\r\n",
        "  res = classifier(text, candidate_labels, multi_class=True)#setting multi-class as True\r\n",
        "  labels = res['labels'] \r\n",
        "  scores = res['scores'] #extracting the scores associated with the labels\r\n",
        "  res_dict = {label : score for label,score in zip(labels, scores)}\r\n",
        "  sorted_dict = dict(sorted(res_dict.items(), key=lambda x:x[1],reverse = True)) #sorting the dictionary of labels in descending order based on their score\r\n",
        "  categories  = []\r\n",
        "  for i, (k,v) in enumerate(sorted_dict.items()):\r\n",
        "      if(i > 2): #storing only the best 3 predictions\r\n",
        "          break\r\n",
        "      else:\r\n",
        "          categories.append(k)\r\n",
        "  predictedCategories.append(categories)\r\n",
        "  trueCats = [category_map[x] for x in cat]\r\n",
        "  trueCategories.append(trueCats)"
      ],
      "execution_count": null,
      "outputs": []
    },
    {
      "cell_type": "code",
      "metadata": {
        "colab": {
          "base_uri": "https://localhost:8080/"
        },
        "id": "gd84QB88USvW",
        "outputId": "d2e2156e-cbeb-4fc4-e8fe-93c5cb726da0"
      },
      "source": [
        "for y_true, y_pred in zip(trueCategories, predictedCategories):\r\n",
        "    print(f'True Categories {y_true}')\r\n",
        "    print(f'Predicted Categories {y_pred}')\r\n",
        "   "
      ],
      "execution_count": null,
      "outputs": [
        {
          "output_type": "error",
          "ename": "NameError",
          "evalue": "ignored",
          "traceback": [
            "\u001b[0;31m---------------------------------------------------------------------------\u001b[0m",
            "\u001b[0;31mNameError\u001b[0m                                 Traceback (most recent call last)",
            "\u001b[0;32m<ipython-input-1-3c6bada51a24>\u001b[0m in \u001b[0;36m<module>\u001b[0;34m()\u001b[0m\n\u001b[0;32m----> 1\u001b[0;31m \u001b[0;32mfor\u001b[0m \u001b[0my_true\u001b[0m\u001b[0;34m,\u001b[0m \u001b[0my_pred\u001b[0m \u001b[0;32min\u001b[0m \u001b[0mzip\u001b[0m\u001b[0;34m(\u001b[0m\u001b[0mtrueCategories\u001b[0m\u001b[0;34m,\u001b[0m \u001b[0mpredictedCategories\u001b[0m\u001b[0;34m)\u001b[0m\u001b[0;34m:\u001b[0m\u001b[0;34m\u001b[0m\u001b[0;34m\u001b[0m\u001b[0m\n\u001b[0m\u001b[1;32m      2\u001b[0m     \u001b[0mprint\u001b[0m\u001b[0;34m(\u001b[0m\u001b[0;34mf'True Categories {y_true}'\u001b[0m\u001b[0;34m)\u001b[0m\u001b[0;34m\u001b[0m\u001b[0;34m\u001b[0m\u001b[0m\n\u001b[1;32m      3\u001b[0m     \u001b[0mprint\u001b[0m\u001b[0;34m(\u001b[0m\u001b[0;34mf'Predicted Categories {y_pred}'\u001b[0m\u001b[0;34m)\u001b[0m\u001b[0;34m\u001b[0m\u001b[0;34m\u001b[0m\u001b[0m\n\u001b[1;32m      4\u001b[0m \u001b[0;34m\u001b[0m\u001b[0m\n",
            "\u001b[0;31mNameError\u001b[0m: name 'trueCategories' is not defined"
          ]
        }
      ]
    },
    {
      "cell_type": "code",
      "metadata": {
        "id": "MUJGprhCU00n"
      },
      "source": [
        "processed_df = pd.read_csv(\"/content/drive/MyDrive/processed.csv\")"
      ],
      "execution_count": null,
      "outputs": []
    },
    {
      "cell_type": "code",
      "metadata": {
        "id": "DMnmgAzhSD4q"
      },
      "source": [
        "candidate_labels = list(category_map.values()) #candidate labels are basically the classes that the classifier will predict\r\n",
        "predictedCategories = []\r\n",
        "trueCategories = []\r\n",
        "for i in range(50):\r\n",
        "  text = processed_df.iloc[i]['abstract']\r\n",
        "  cat = processed_df.iloc[i]['categories']\r\n",
        "  cat = cat.split()\r\n",
        "  res = classifier(text, candidate_labels, multi_class=True)#setting multi-class as True\r\n",
        "  labels = res['labels'] \r\n",
        "  scores = res['scores'] #extracting the scores associated with the labels\r\n",
        "  res_dict = {label : score for label,score in zip(labels, scores)}\r\n",
        "  sorted_dict = dict(sorted(res_dict.items(), key=lambda x:x[1],reverse = True)) #sorting the dictionary of labels in descending order based on their score\r\n",
        "  categories  = []\r\n",
        "  for i, (k,v) in enumerate(sorted_dict.items()):\r\n",
        "      if(i > 2): #storing only the best 3 predictions\r\n",
        "          break\r\n",
        "      else:\r\n",
        "          categories.append(k)\r\n",
        "  predictedCategories.append(categories)\r\n",
        "  trueCats = [category_map[x] for x in cat]\r\n",
        "  trueCategories.append(trueCats)"
      ],
      "execution_count": null,
      "outputs": []
    },
    {
      "cell_type": "code",
      "metadata": {
        "id": "9NYwadzySLb_"
      },
      "source": [
        "proc_predictedCategories = []\r\n",
        "proc_trueCategories = []\r\n",
        "for i in range(50):\r\n",
        "  text = processed_df.iloc[i]['processed']\r\n",
        "  cat = processed_df.iloc[i]['categories']\r\n",
        "  cat = cat.split()\r\n",
        "  res = classifier(text, candidate_labels, multi_class=True)#setting multi-class as True\r\n",
        "  labels = res['labels'] \r\n",
        "  scores = res['scores'] #extracting the scores associated with the labels\r\n",
        "  res_dict = {label : score for label,score in zip(labels, scores)}\r\n",
        "  sorted_dict = dict(sorted(res_dict.items(), key=lambda x:x[1],reverse = True)) #sorting the dictionary of labels in descending order based on their score\r\n",
        "  categories  = []\r\n",
        "  for i, (k,v) in enumerate(sorted_dict.items()):\r\n",
        "      if(i > 2): #storing only the best 3 predictions\r\n",
        "          break\r\n",
        "      else:\r\n",
        "          categories.append(k)\r\n",
        "  proc_predictedCategories.append(categories)\r\n",
        "  trueCats = [category_map[x] for x in cat]\r\n",
        "  proc_trueCategories.append(trueCats)"
      ],
      "execution_count": null,
      "outputs": []
    },
    {
      "cell_type": "code",
      "metadata": {
        "id": "HmyeRyrSUKzl"
      },
      "source": [
        "cor = 0\r\n",
        "for pred,true in zip(predictedCategories, trueCategories):\r\n",
        "  for element in pred:\r\n",
        "    if element in true:\r\n",
        "      cor += 1\r\n"
      ],
      "execution_count": null,
      "outputs": []
    },
    {
      "cell_type": "code",
      "metadata": {
        "colab": {
          "base_uri": "https://localhost:8080/"
        },
        "id": "6CsJOpk1UxJm",
        "outputId": "20d29d12-395c-4ba0-b71a-918573d6dbb0"
      },
      "source": [
        "cor"
      ],
      "execution_count": null,
      "outputs": [
        {
          "output_type": "execute_result",
          "data": {
            "text/plain": [
              "8"
            ]
          },
          "metadata": {
            "tags": []
          },
          "execution_count": 22
        }
      ]
    },
    {
      "cell_type": "code",
      "metadata": {
        "id": "6Ljop2yIUyaa"
      },
      "source": [
        "cor = 0\r\n",
        "for pred,true in zip(proc_predictedCategories, proc_trueCategories):\r\n",
        "  for element in pred:\r\n",
        "    if element in true:\r\n",
        "      cor += 1\r\n"
      ],
      "execution_count": null,
      "outputs": []
    },
    {
      "cell_type": "code",
      "metadata": {
        "colab": {
          "base_uri": "https://localhost:8080/"
        },
        "id": "Z-bDf6TDf6rQ",
        "outputId": "a383cbd9-4cf6-482d-8226-adc96b06c1e7"
      },
      "source": [
        "cor"
      ],
      "execution_count": null,
      "outputs": [
        {
          "output_type": "execute_result",
          "data": {
            "text/plain": [
              "11"
            ]
          },
          "metadata": {
            "tags": []
          },
          "execution_count": 25
        }
      ]
    },
    {
      "cell_type": "code",
      "metadata": {
        "colab": {
          "base_uri": "https://localhost:8080/",
          "height": 238
        },
        "id": "2A4bvkLVf7b0",
        "outputId": "275ba75a-fc28-4257-fbbe-981474fe8a29"
      },
      "source": [
        "candidate_labels = list(category_map.values()) #candidate labels are basically the classes that the classifier will predict\r\n",
        "predictedCategories = []\r\n",
        "trueCategories = []\r\n",
        "for i in range(10):\r\n",
        "  text = processed_df.iloc[i]['abstract']\r\n",
        "  cat = processed_df.iloc[i]['categories']\r\n",
        "  cat = cat.split()\r\n",
        "  res = classifier(text, candidate_labels, multi_class=True)#setting multi-class as True\r\n",
        "  labels = res['labels'] \r\n",
        "  scores = res['scores'] #extracting the scores associated with the labels\r\n",
        "  res_dict = {label : score for label,score in zip(labels, scores)}\r\n",
        "  sorted_dict = dict(sorted(res_dict.items(), key=lambda x:x[1],reverse = True)) #sorting the dictionary of labels in descending order based on their score\r\n",
        "  categories  = []\r\n",
        "  for i, (k,v) in enumerate(sorted_dict.items()):\r\n",
        "      if(i > 2): #storing only the best 3 predictions\r\n",
        "          break\r\n",
        "      else:\r\n",
        "          categories.append(k)\r\n",
        "  predictedCategories.append(categories)\r\n",
        "  trueCats = [category_map[x] for x in cat]\r\n",
        "  trueCategories.append(trueCats)"
      ],
      "execution_count": null,
      "outputs": [
        {
          "output_type": "error",
          "ename": "NameError",
          "evalue": "ignored",
          "traceback": [
            "\u001b[0;31m---------------------------------------------------------------------------\u001b[0m",
            "\u001b[0;31mNameError\u001b[0m                                 Traceback (most recent call last)",
            "\u001b[0;32m<ipython-input-1-a9d600923a50>\u001b[0m in \u001b[0;36m<module>\u001b[0;34m()\u001b[0m\n\u001b[0;32m----> 1\u001b[0;31m \u001b[0mcandidate_labels\u001b[0m \u001b[0;34m=\u001b[0m \u001b[0mlist\u001b[0m\u001b[0;34m(\u001b[0m\u001b[0mcategory_map\u001b[0m\u001b[0;34m.\u001b[0m\u001b[0mvalues\u001b[0m\u001b[0;34m(\u001b[0m\u001b[0;34m)\u001b[0m\u001b[0;34m)\u001b[0m \u001b[0;31m#candidate labels are basically the classes that the classifier will predict\u001b[0m\u001b[0;34m\u001b[0m\u001b[0;34m\u001b[0m\u001b[0m\n\u001b[0m\u001b[1;32m      2\u001b[0m \u001b[0mpredictedCategories\u001b[0m \u001b[0;34m=\u001b[0m \u001b[0;34m[\u001b[0m\u001b[0;34m]\u001b[0m\u001b[0;34m\u001b[0m\u001b[0;34m\u001b[0m\u001b[0m\n\u001b[1;32m      3\u001b[0m \u001b[0mtrueCategories\u001b[0m \u001b[0;34m=\u001b[0m \u001b[0;34m[\u001b[0m\u001b[0;34m]\u001b[0m\u001b[0;34m\u001b[0m\u001b[0;34m\u001b[0m\u001b[0m\n\u001b[1;32m      4\u001b[0m \u001b[0;32mfor\u001b[0m \u001b[0mi\u001b[0m \u001b[0;32min\u001b[0m \u001b[0mrange\u001b[0m\u001b[0;34m(\u001b[0m\u001b[0;36m10\u001b[0m\u001b[0;34m)\u001b[0m\u001b[0;34m:\u001b[0m\u001b[0;34m\u001b[0m\u001b[0;34m\u001b[0m\u001b[0m\n\u001b[1;32m      5\u001b[0m   \u001b[0mtext\u001b[0m \u001b[0;34m=\u001b[0m \u001b[0mprocessed_df\u001b[0m\u001b[0;34m.\u001b[0m\u001b[0miloc\u001b[0m\u001b[0;34m[\u001b[0m\u001b[0mi\u001b[0m\u001b[0;34m]\u001b[0m\u001b[0;34m[\u001b[0m\u001b[0;34m'abstract'\u001b[0m\u001b[0;34m]\u001b[0m\u001b[0;34m\u001b[0m\u001b[0;34m\u001b[0m\u001b[0m\n",
            "\u001b[0;31mNameError\u001b[0m: name 'category_map' is not defined"
          ]
        }
      ]
    },
    {
      "cell_type": "code",
      "metadata": {
        "id": "PtM-5LArmuH9",
        "colab": {
          "base_uri": "https://localhost:8080/",
          "height": 238
        },
        "outputId": "72f8b4b3-b38d-4d56-9eb5-b5f8a0427c3d"
      },
      "source": [
        "proc_predictedCategories = []\r\n",
        "proc_trueCategories = []\r\n",
        "for i in range(10):\r\n",
        "  text = processed_df.iloc[i]['processed']\r\n",
        "  cat = processed_df.iloc[i]['categories']\r\n",
        "  cat = cat.split()\r\n",
        "  res = classifier(text, candidate_labels, multi_class=True)#setting multi-class as True\r\n",
        "  labels = res['labels'] \r\n",
        "  scores = res['scores'] #extracting the scores associated with the labels\r\n",
        "  res_dict = {label : score for label,score in zip(labels, scores)}\r\n",
        "  sorted_dict = dict(sorted(res_dict.items(), key=lambda x:x[1],reverse = True)) #sorting the dictionary of labels in descending order based on their score\r\n",
        "  categories  = []\r\n",
        "  for i, (k,v) in enumerate(sorted_dict.items()):\r\n",
        "      if(i > 2): #storing only the best 3 predictions\r\n",
        "          break\r\n",
        "      else:\r\n",
        "          categories.append(k)\r\n",
        "  proc_predictedCategories.append(categories)\r\n",
        "  trueCats = [category_map[x] for x in cat]\r\n",
        "  proc_trueCategories.append(trueCats)"
      ],
      "execution_count": null,
      "outputs": [
        {
          "output_type": "error",
          "ename": "NameError",
          "evalue": "ignored",
          "traceback": [
            "\u001b[0;31m---------------------------------------------------------------------------\u001b[0m",
            "\u001b[0;31mNameError\u001b[0m                                 Traceback (most recent call last)",
            "\u001b[0;32m<ipython-input-2-238733f8c369>\u001b[0m in \u001b[0;36m<module>\u001b[0;34m()\u001b[0m\n\u001b[1;32m      2\u001b[0m \u001b[0mproc_trueCategories\u001b[0m \u001b[0;34m=\u001b[0m \u001b[0;34m[\u001b[0m\u001b[0;34m]\u001b[0m\u001b[0;34m\u001b[0m\u001b[0;34m\u001b[0m\u001b[0m\n\u001b[1;32m      3\u001b[0m \u001b[0;32mfor\u001b[0m \u001b[0mi\u001b[0m \u001b[0;32min\u001b[0m \u001b[0mrange\u001b[0m\u001b[0;34m(\u001b[0m\u001b[0;36m10\u001b[0m\u001b[0;34m)\u001b[0m\u001b[0;34m:\u001b[0m\u001b[0;34m\u001b[0m\u001b[0;34m\u001b[0m\u001b[0m\n\u001b[0;32m----> 4\u001b[0;31m   \u001b[0mtext\u001b[0m \u001b[0;34m=\u001b[0m \u001b[0mprocessed_df\u001b[0m\u001b[0;34m.\u001b[0m\u001b[0miloc\u001b[0m\u001b[0;34m[\u001b[0m\u001b[0mi\u001b[0m\u001b[0;34m]\u001b[0m\u001b[0;34m[\u001b[0m\u001b[0;34m'processed'\u001b[0m\u001b[0;34m]\u001b[0m\u001b[0;34m\u001b[0m\u001b[0;34m\u001b[0m\u001b[0m\n\u001b[0m\u001b[1;32m      5\u001b[0m   \u001b[0mcat\u001b[0m \u001b[0;34m=\u001b[0m \u001b[0mprocessed_df\u001b[0m\u001b[0;34m.\u001b[0m\u001b[0miloc\u001b[0m\u001b[0;34m[\u001b[0m\u001b[0mi\u001b[0m\u001b[0;34m]\u001b[0m\u001b[0;34m[\u001b[0m\u001b[0;34m'categories'\u001b[0m\u001b[0;34m]\u001b[0m\u001b[0;34m\u001b[0m\u001b[0;34m\u001b[0m\u001b[0m\n\u001b[1;32m      6\u001b[0m   \u001b[0mcat\u001b[0m \u001b[0;34m=\u001b[0m \u001b[0mcat\u001b[0m\u001b[0;34m.\u001b[0m\u001b[0msplit\u001b[0m\u001b[0;34m(\u001b[0m\u001b[0;34m)\u001b[0m\u001b[0;34m\u001b[0m\u001b[0;34m\u001b[0m\u001b[0m\n",
            "\u001b[0;31mNameError\u001b[0m: name 'processed_df' is not defined"
          ]
        }
      ]
    },
    {
      "cell_type": "code",
      "metadata": {
        "id": "Eu6LyN08gTgv"
      },
      "source": [
        ""
      ],
      "execution_count": null,
      "outputs": []
    }
  ]
}